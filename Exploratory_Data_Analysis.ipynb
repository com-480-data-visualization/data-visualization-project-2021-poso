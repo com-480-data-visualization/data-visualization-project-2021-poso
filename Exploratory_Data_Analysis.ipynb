{
 "cells": [
  {
   "cell_type": "code",
   "execution_count": 70,
   "metadata": {},
   "outputs": [],
   "source": [
    "import pandas as pd"
   ]
  },
  {
   "cell_type": "code",
   "execution_count": 71,
   "metadata": {},
   "outputs": [
    {
     "data": {
      "text/html": [
       "<div>\n",
       "<style scoped>\n",
       "    .dataframe tbody tr th:only-of-type {\n",
       "        vertical-align: middle;\n",
       "    }\n",
       "\n",
       "    .dataframe tbody tr th {\n",
       "        vertical-align: top;\n",
       "    }\n",
       "\n",
       "    .dataframe thead th {\n",
       "        text-align: right;\n",
       "    }\n",
       "</style>\n",
       "<table border=\"1\" class=\"dataframe\">\n",
       "  <thead>\n",
       "    <tr style=\"text-align: right;\">\n",
       "      <th></th>\n",
       "      <th>headlines</th>\n",
       "      <th>outcome</th>\n",
       "    </tr>\n",
       "  </thead>\n",
       "  <tbody>\n",
       "    <tr>\n",
       "      <th>0</th>\n",
       "      <td>A post claims compulsory vacination violates t...</td>\n",
       "      <td>0</td>\n",
       "    </tr>\n",
       "    <tr>\n",
       "      <th>1</th>\n",
       "      <td>A photo claims that this person is a doctor wh...</td>\n",
       "      <td>0</td>\n",
       "    </tr>\n",
       "    <tr>\n",
       "      <th>2</th>\n",
       "      <td>Post about a video claims that it is a protest...</td>\n",
       "      <td>0</td>\n",
       "    </tr>\n",
       "    <tr>\n",
       "      <th>3</th>\n",
       "      <td>All deaths by respiratory failure and pneumoni...</td>\n",
       "      <td>0</td>\n",
       "    </tr>\n",
       "    <tr>\n",
       "      <th>4</th>\n",
       "      <td>The dean of the College of Biologists of Euska...</td>\n",
       "      <td>0</td>\n",
       "    </tr>\n",
       "  </tbody>\n",
       "</table>\n",
       "</div>"
      ],
      "text/plain": [
       "                                           headlines  outcome\n",
       "0  A post claims compulsory vacination violates t...        0\n",
       "1  A photo claims that this person is a doctor wh...        0\n",
       "2  Post about a video claims that it is a protest...        0\n",
       "3  All deaths by respiratory failure and pneumoni...        0\n",
       "4  The dean of the College of Biologists of Euska...        0"
      ]
     },
     "execution_count": 71,
     "metadata": {},
     "output_type": "execute_result"
    }
   ],
   "source": [
    "a = pd.read_csv(\"first_data_covid.csv\") # 0 for fake\n",
    "a.head()"
   ]
  },
  {
   "cell_type": "code",
   "execution_count": 72,
   "metadata": {},
   "outputs": [
    {
     "data": {
      "text/html": [
       "<div>\n",
       "<style scoped>\n",
       "    .dataframe tbody tr th:only-of-type {\n",
       "        vertical-align: middle;\n",
       "    }\n",
       "\n",
       "    .dataframe tbody tr th {\n",
       "        vertical-align: top;\n",
       "    }\n",
       "\n",
       "    .dataframe thead th {\n",
       "        text-align: right;\n",
       "    }\n",
       "</style>\n",
       "<table border=\"1\" class=\"dataframe\">\n",
       "  <thead>\n",
       "    <tr style=\"text-align: right;\">\n",
       "      <th></th>\n",
       "      <th>headlines</th>\n",
       "      <th>outcome</th>\n",
       "    </tr>\n",
       "  </thead>\n",
       "  <tbody>\n",
       "    <tr>\n",
       "      <th>0</th>\n",
       "      <td>FACEBOOK DELETES MICHIGAN ANTI-LOCKDOWN GROUP ...</td>\n",
       "      <td>0</td>\n",
       "    </tr>\n",
       "    <tr>\n",
       "      <th>1</th>\n",
       "      <td>Other Viewpoints: COVID-19 is worse than the f...</td>\n",
       "      <td>1</td>\n",
       "    </tr>\n",
       "    <tr>\n",
       "      <th>2</th>\n",
       "      <td>Bermuda's COVID-19 cases surpass 100 The Minis...</td>\n",
       "      <td>1</td>\n",
       "    </tr>\n",
       "    <tr>\n",
       "      <th>3</th>\n",
       "      <td>Purdue University says students face 'close to...</td>\n",
       "      <td>0</td>\n",
       "    </tr>\n",
       "    <tr>\n",
       "      <th>4</th>\n",
       "      <td>THE HIGH COST OF LOCKING DOWN AMERICA: “WE’VE ...</td>\n",
       "      <td>0</td>\n",
       "    </tr>\n",
       "  </tbody>\n",
       "</table>\n",
       "</div>"
      ],
      "text/plain": [
       "                                           headlines  outcome\n",
       "0  FACEBOOK DELETES MICHIGAN ANTI-LOCKDOWN GROUP ...        0\n",
       "1  Other Viewpoints: COVID-19 is worse than the f...        1\n",
       "2  Bermuda's COVID-19 cases surpass 100 The Minis...        1\n",
       "3  Purdue University says students face 'close to...        0\n",
       "4  THE HIGH COST OF LOCKING DOWN AMERICA: “WE’VE ...        0"
      ]
     },
     "execution_count": 72,
     "metadata": {},
     "output_type": "execute_result"
    }
   ],
   "source": [
    "b = pd.read_excel(\"fake_new_dataset.xlsx\").drop(columns=['Unnamed: 0', 'subcategory']) #0 for fake\n",
    "b['headlines'] = b['title'] + ' ' + b['text']\n",
    "b['outcome'] = b['label']\n",
    "b = b.drop(columns=['title', 'text', 'label'])\n",
    "b.head()"
   ]
  },
  {
   "cell_type": "code",
   "execution_count": 73,
   "metadata": {},
   "outputs": [
    {
     "data": {
      "text/plain": [
       "'A post claims compulsory vacination violates the principles of bioethics, that coronavirus doesnâ€™t exist, that the PCR test returns many false positives, and that influenza vaccine is related to COVID-19.'"
      ]
     },
     "execution_count": 73,
     "metadata": {},
     "output_type": "execute_result"
    }
   ],
   "source": [
    "a['headlines'][0]"
   ]
  },
  {
   "cell_type": "code",
   "execution_count": 74,
   "metadata": {},
   "outputs": [
    {
     "data": {
      "text/plain": [
       "(10201, 3119)"
      ]
     },
     "execution_count": 74,
     "metadata": {},
     "output_type": "execute_result"
    }
   ],
   "source": [
    "len(a), len(b)"
   ]
  },
  {
   "cell_type": "code",
   "execution_count": 75,
   "metadata": {},
   "outputs": [
    {
     "data": {
      "text/plain": [
       "(13320,\n",
       "                                            headlines  outcome\n",
       " 0  A post claims compulsory vacination violates t...        0\n",
       " 1  A photo claims that this person is a doctor wh...        0\n",
       " 2  Post about a video claims that it is a protest...        0\n",
       " 3  All deaths by respiratory failure and pneumoni...        0\n",
       " 4  The dean of the College of Biologists of Euska...        0)"
      ]
     },
     "execution_count": 75,
     "metadata": {},
     "output_type": "execute_result"
    }
   ],
   "source": [
    "data = pd.concat([a, b])\n",
    "len(data), data.head()"
   ]
  },
  {
   "cell_type": "code",
   "execution_count": 76,
   "metadata": {},
   "outputs": [
    {
     "data": {
      "text/html": [
       "<div>\n",
       "<style scoped>\n",
       "    .dataframe tbody tr th:only-of-type {\n",
       "        vertical-align: middle;\n",
       "    }\n",
       "\n",
       "    .dataframe tbody tr th {\n",
       "        vertical-align: top;\n",
       "    }\n",
       "\n",
       "    .dataframe thead th {\n",
       "        text-align: right;\n",
       "    }\n",
       "</style>\n",
       "<table border=\"1\" class=\"dataframe\">\n",
       "  <thead>\n",
       "    <tr style=\"text-align: right;\">\n",
       "      <th></th>\n",
       "      <th>headlines</th>\n",
       "      <th>outcome</th>\n",
       "    </tr>\n",
       "  </thead>\n",
       "  <tbody>\n",
       "    <tr>\n",
       "      <th>0</th>\n",
       "      <td>a post claims compulsory vacination violates t...</td>\n",
       "      <td>0</td>\n",
       "    </tr>\n",
       "    <tr>\n",
       "      <th>1</th>\n",
       "      <td>a photo claims that this person is a doctor wh...</td>\n",
       "      <td>0</td>\n",
       "    </tr>\n",
       "    <tr>\n",
       "      <th>2</th>\n",
       "      <td>post about a video claims that it is a protest...</td>\n",
       "      <td>0</td>\n",
       "    </tr>\n",
       "    <tr>\n",
       "      <th>3</th>\n",
       "      <td>all deaths by respiratory failure and pneumoni...</td>\n",
       "      <td>0</td>\n",
       "    </tr>\n",
       "    <tr>\n",
       "      <th>4</th>\n",
       "      <td>the dean of the college of biologists of euska...</td>\n",
       "      <td>0</td>\n",
       "    </tr>\n",
       "  </tbody>\n",
       "</table>\n",
       "</div>"
      ],
      "text/plain": [
       "                                           headlines  outcome\n",
       "0  a post claims compulsory vacination violates t...        0\n",
       "1  a photo claims that this person is a doctor wh...        0\n",
       "2  post about a video claims that it is a protest...        0\n",
       "3  all deaths by respiratory failure and pneumoni...        0\n",
       "4  the dean of the college of biologists of euska...        0"
      ]
     },
     "execution_count": 76,
     "metadata": {},
     "output_type": "execute_result"
    }
   ],
   "source": [
    "data['headlines'] = data[\"headlines\"].str.lower()\n",
    "data.head()"
   ]
  },
  {
   "cell_type": "code",
   "execution_count": 77,
   "metadata": {},
   "outputs": [
    {
     "name": "stdout",
     "output_type": "stream",
     "text": [
      "!\"#$%&'()*+,-./:;<=>?@[\\]^_`{|}~\n",
      "\t\n"
     ]
    },
    {
     "data": {
      "text/html": [
       "<div>\n",
       "<style scoped>\n",
       "    .dataframe tbody tr th:only-of-type {\n",
       "        vertical-align: middle;\n",
       "    }\n",
       "\n",
       "    .dataframe tbody tr th {\n",
       "        vertical-align: top;\n",
       "    }\n",
       "\n",
       "    .dataframe thead th {\n",
       "        text-align: right;\n",
       "    }\n",
       "</style>\n",
       "<table border=\"1\" class=\"dataframe\">\n",
       "  <thead>\n",
       "    <tr style=\"text-align: right;\">\n",
       "      <th></th>\n",
       "      <th>headlines</th>\n",
       "      <th>outcome</th>\n",
       "    </tr>\n",
       "  </thead>\n",
       "  <tbody>\n",
       "    <tr>\n",
       "      <th>0</th>\n",
       "      <td>a post claims compulsory vacination violates t...</td>\n",
       "      <td>0</td>\n",
       "    </tr>\n",
       "    <tr>\n",
       "      <th>1</th>\n",
       "      <td>a photo claims that this person is a doctor wh...</td>\n",
       "      <td>0</td>\n",
       "    </tr>\n",
       "    <tr>\n",
       "      <th>2</th>\n",
       "      <td>post about a video claims that it is a protest...</td>\n",
       "      <td>0</td>\n",
       "    </tr>\n",
       "    <tr>\n",
       "      <th>3</th>\n",
       "      <td>all deaths by respiratory failure and pneumoni...</td>\n",
       "      <td>0</td>\n",
       "    </tr>\n",
       "    <tr>\n",
       "      <th>4</th>\n",
       "      <td>the dean of the college of biologists of euska...</td>\n",
       "      <td>0</td>\n",
       "    </tr>\n",
       "  </tbody>\n",
       "</table>\n",
       "</div>"
      ],
      "text/plain": [
       "                                           headlines  outcome\n",
       "0  a post claims compulsory vacination violates t...        0\n",
       "1  a photo claims that this person is a doctor wh...        0\n",
       "2  post about a video claims that it is a protest...        0\n",
       "3  all deaths by respiratory failure and pneumoni...        0\n",
       "4  the dean of the college of biologists of euska...        0"
      ]
     },
     "execution_count": 77,
     "metadata": {},
     "output_type": "execute_result"
    }
   ],
   "source": [
    "import string\n",
    "PUNCT_TO_REMOVE = string.punctuation + '\\n\\t'\n",
    "print(PUNCT_TO_REMOVE)\n",
    "data['headlines'] = data['headlines'].apply(str)\n",
    "def remove_punctuation(text):\n",
    "    \"\"\"custom function to remove the punctuation\"\"\"\n",
    "    return text.translate(str.maketrans('', '', PUNCT_TO_REMOVE))\n",
    "\n",
    "data[\"headlines\"] = data[\"headlines\"].apply(lambda text: remove_punctuation(text))\n",
    "data.head()"
   ]
  },
  {
   "cell_type": "code",
   "execution_count": 79,
   "metadata": {},
   "outputs": [
    {
     "data": {
      "text/plain": [
       "'30 patients in philippines negative for 2019ncov the department of health doh announced monday february 3 that at least 30 patients under investigation puis have been found negative for the novel coronavirus acute respiratory disease 2019ncov ardthe 30 are among the total of 80 puis recorded in the country as of 12 pm monday february 3doh secretary francisco duque iii said of the 80 puis 67 have been admitted and isolated in different hospitals while 10 were discharged but are still under strict monitoringalso included in the list are the two positive cases  a 38yearold chinese woman who remains in isolation at san lazaro hospital and her 44yearold partner who died saturday february 1  as well as the 29yearold chinese man who died at san lazaro hospital last weekduque clarified that the 29yearold chinese man who died last week tested negative for 2019ncov but he had human immunodeficiency virus hivduque said the increase in the number of puis can be attributed to better surveillance system contact tracing on people who may have come in contact with the first two positive cases and the widened pui category which now covers the whole of chinaon sunday february 2 president rodrigo duterte expanded the temporary travel ban to include tourists coming from mainland china and its special administrative regions hong kong and macaupresidential spokesperson salvador panelo said sunday that the ban is for any nationality except filipinos coming directly from china and its special administrative regionsduque said the doh is still awaiting test results for 48 patientshe clarified monday that for a pui to be discharged and cleared for 2019ncov ard at least two negatives results are neededwe need two negative results duque said adding that it will take 24 to 48 hours for the test results to be releasedas to the 44yearold chinese man who tested positive for 2019ncov but died saturday february 1 the doh said the cremation of the cadaver has been scheduledstandard procedure is to dispose the body as soon as possible the cremation will be done as soon as possible and all precautions will be observed said doh undersecretary eric domingo in a press briefing mondaythe doh also clarified that as of monday february 3 there is still no local transmission in the philippines stressing the two positive cases were imported caseshealth officials called on the public to observe preventive measures such as proper handwashing practicing cough etiquette and maintaining healthy lifestyle to prevent infection '"
      ]
     },
     "execution_count": 79,
     "metadata": {},
     "output_type": "execute_result"
    }
   ],
   "source": [
    "data['headlines'].iloc[11002]"
   ]
  },
  {
   "cell_type": "code",
   "execution_count": 80,
   "metadata": {},
   "outputs": [
    {
     "data": {
      "text/html": [
       "<div>\n",
       "<style scoped>\n",
       "    .dataframe tbody tr th:only-of-type {\n",
       "        vertical-align: middle;\n",
       "    }\n",
       "\n",
       "    .dataframe tbody tr th {\n",
       "        vertical-align: top;\n",
       "    }\n",
       "\n",
       "    .dataframe thead th {\n",
       "        text-align: right;\n",
       "    }\n",
       "</style>\n",
       "<table border=\"1\" class=\"dataframe\">\n",
       "  <thead>\n",
       "    <tr style=\"text-align: right;\">\n",
       "      <th></th>\n",
       "      <th>headlines</th>\n",
       "      <th>outcome</th>\n",
       "    </tr>\n",
       "  </thead>\n",
       "  <tbody>\n",
       "    <tr>\n",
       "      <th>0</th>\n",
       "      <td>a post claim compulsory vacination violates th...</td>\n",
       "      <td>0</td>\n",
       "    </tr>\n",
       "    <tr>\n",
       "      <th>1</th>\n",
       "      <td>a photo claim that this person is a doctor who...</td>\n",
       "      <td>0</td>\n",
       "    </tr>\n",
       "    <tr>\n",
       "      <th>2</th>\n",
       "      <td>post about a video claim that it is a protest ...</td>\n",
       "      <td>0</td>\n",
       "    </tr>\n",
       "    <tr>\n",
       "      <th>3</th>\n",
       "      <td>all death by respiratory failure and pneumonia...</td>\n",
       "      <td>0</td>\n",
       "    </tr>\n",
       "    <tr>\n",
       "      <th>4</th>\n",
       "      <td>the dean of the college of biologist of euskad...</td>\n",
       "      <td>0</td>\n",
       "    </tr>\n",
       "  </tbody>\n",
       "</table>\n",
       "</div>"
      ],
      "text/plain": [
       "                                           headlines  outcome\n",
       "0  a post claim compulsory vacination violates th...        0\n",
       "1  a photo claim that this person is a doctor who...        0\n",
       "2  post about a video claim that it is a protest ...        0\n",
       "3  all death by respiratory failure and pneumonia...        0\n",
       "4  the dean of the college of biologist of euskad...        0"
      ]
     },
     "execution_count": 80,
     "metadata": {},
     "output_type": "execute_result"
    }
   ],
   "source": [
    "from nltk.stem import WordNetLemmatizer\n",
    "\n",
    "lemmatizer = WordNetLemmatizer()\n",
    "def lemmatize_words(text):\n",
    "    return \" \".join([lemmatizer.lemmatize(word) for word in text.split()])\n",
    "\n",
    "data[\"headlines\"] = data[\"headlines\"].apply(lambda text: lemmatize_words(text))\n",
    "data.head()"
   ]
  },
  {
   "cell_type": "code",
   "execution_count": 81,
   "metadata": {},
   "outputs": [
    {
     "data": {
      "text/plain": [
       "\"i, me, my, myself, we, our, ours, ourselves, you, you're, you've, you'll, you'd, your, yours, yourself, yourselves, he, him, his, himself, she, she's, her, hers, herself, it, it's, its, itself, they, them, their, theirs, themselves, what, which, who, whom, this, that, that'll, these, those, am, is, are, was, were, be, been, being, have, has, had, having, do, does, did, doing, a, an, the, and, but, if, or, because, as, until, while, of, at, by, for, with, about, against, between, into, through, during, before, after, above, below, to, from, up, down, in, out, on, off, over, under, again, further, then, once, here, there, when, where, why, how, all, any, both, each, few, more, most, other, some, such, no, nor, not, only, own, same, so, than, too, very, s, t, can, will, just, don, don't, should, should've, now, d, ll, m, o, re, ve, y, ain, aren, aren't, couldn, couldn't, didn, didn't, doesn, doesn't, hadn, hadn't, hasn, hasn't, haven, haven't, isn, isn't, ma, mightn, mightn't, mustn, mustn't, needn, needn't, shan, shan't, shouldn, shouldn't, wasn, wasn't, weren, weren't, won, won't, wouldn, wouldn't\""
      ]
     },
     "execution_count": 81,
     "metadata": {},
     "output_type": "execute_result"
    }
   ],
   "source": [
    "from nltk.corpus import stopwords\n",
    "\", \".join(stopwords.words('english'))"
   ]
  },
  {
   "cell_type": "code",
   "execution_count": 82,
   "metadata": {},
   "outputs": [
    {
     "data": {
      "text/html": [
       "<div>\n",
       "<style scoped>\n",
       "    .dataframe tbody tr th:only-of-type {\n",
       "        vertical-align: middle;\n",
       "    }\n",
       "\n",
       "    .dataframe tbody tr th {\n",
       "        vertical-align: top;\n",
       "    }\n",
       "\n",
       "    .dataframe thead th {\n",
       "        text-align: right;\n",
       "    }\n",
       "</style>\n",
       "<table border=\"1\" class=\"dataframe\">\n",
       "  <thead>\n",
       "    <tr style=\"text-align: right;\">\n",
       "      <th></th>\n",
       "      <th>headlines</th>\n",
       "      <th>outcome</th>\n",
       "    </tr>\n",
       "  </thead>\n",
       "  <tbody>\n",
       "    <tr>\n",
       "      <th>0</th>\n",
       "      <td>post claim compulsory vacination violates prin...</td>\n",
       "      <td>0</td>\n",
       "    </tr>\n",
       "    <tr>\n",
       "      <th>1</th>\n",
       "      <td>photo claim person doctor died attending many ...</td>\n",
       "      <td>0</td>\n",
       "    </tr>\n",
       "    <tr>\n",
       "      <th>2</th>\n",
       "      <td>post video claim protest confination town aran...</td>\n",
       "      <td>0</td>\n",
       "    </tr>\n",
       "    <tr>\n",
       "      <th>3</th>\n",
       "      <td>death respiratory failure pneumonia registered...</td>\n",
       "      <td>0</td>\n",
       "    </tr>\n",
       "    <tr>\n",
       "      <th>4</th>\n",
       "      <td>dean college biologist euskadi state lot pcr f...</td>\n",
       "      <td>0</td>\n",
       "    </tr>\n",
       "  </tbody>\n",
       "</table>\n",
       "</div>"
      ],
      "text/plain": [
       "                                           headlines  outcome\n",
       "0  post claim compulsory vacination violates prin...        0\n",
       "1  photo claim person doctor died attending many ...        0\n",
       "2  post video claim protest confination town aran...        0\n",
       "3  death respiratory failure pneumonia registered...        0\n",
       "4  dean college biologist euskadi state lot pcr f...        0"
      ]
     },
     "execution_count": 82,
     "metadata": {},
     "output_type": "execute_result"
    }
   ],
   "source": [
    "STOPWORDS = set(stopwords.words('english'))\n",
    "def remove_stopwords(text):\n",
    "    \"\"\"custom function to remove the stopwords\"\"\"\n",
    "    return \" \".join([word for word in str(text).split() if word not in STOPWORDS])\n",
    "\n",
    "data[\"headlines\"] = data[\"headlines\"].apply(lambda text: remove_stopwords(text))\n",
    "data.head()"
   ]
  },
  {
   "cell_type": "code",
   "execution_count": 83,
   "metadata": {},
   "outputs": [
    {
     "data": {
      "text/plain": [
       "'30 patient philippine negative 2019ncov department health doh announced monday february 3 least 30 patient investigation puis found negative novel coronavirus acute respiratory disease 2019ncov ardthe 30 among total 80 puis recorded country 12 pm monday february 3doh secretary francisco duque iii said 80 puis 67 admitted isolated different hospital 10 discharged still strict monitoringalso included list two positive case 38yearold chinese woman remains isolation san lazaro hospital 44yearold partner died saturday february 1 well 29yearold chinese man died san lazaro hospital last weekduque clarified 29yearold chinese man died last week tested negative 2019ncov human immunodeficiency virus hivduque said increase number puis attributed better surveillance system contact tracing people may come contact first two positive case widened pui category cover whole chinaon sunday february 2 president rodrigo duterte expanded temporary travel ban include tourist coming mainland china special administrative region hong kong macaupresidential spokesperson salvador panelo said sunday ban nationality except filipino coming directly china special administrative regionsduque said doh still awaiting test result 48 patientshe clarified monday pui discharged cleared 2019ncov ard least two negative result neededwe need two negative result duque said adding take 24 48 hour test result releasedas 44yearold chinese man tested positive 2019ncov died saturday february 1 doh said cremation cadaver ha scheduledstandard procedure dispose body soon possible cremation done soon possible precaution observed said doh undersecretary eric domingo press briefing mondaythe doh also clarified monday february 3 still local transmission philippine stressing two positive case imported caseshealth official called public observe preventive measure proper handwashing practicing cough etiquette maintaining healthy lifestyle prevent infection'"
      ]
     },
     "execution_count": 83,
     "metadata": {},
     "output_type": "execute_result"
    }
   ],
   "source": [
    "data['headlines'].iloc[11002]"
   ]
  },
  {
   "cell_type": "code",
   "execution_count": 84,
   "metadata": {},
   "outputs": [
    {
     "data": {
      "text/plain": [
       "[('virus', 13244),\n",
       " ('coronavirus', 11267),\n",
       " ('ha', 10012),\n",
       " ('china', 9274),\n",
       " ('health', 7328),\n",
       " ('wa', 6950),\n",
       " ('people', 6669),\n",
       " ('case', 6375),\n",
       " ('corona', 6185),\n",
       " ('said', 5404),\n",
       " ('new', 4752),\n",
       " ('covid19', 4650),\n",
       " ('wuhan', 4246),\n",
       " ('outbreak', 4099),\n",
       " ('chinese', 4096),\n",
       " ('also', 4067),\n",
       " ('disease', 3419),\n",
       " ('country', 3359),\n",
       " ('patient', 3356),\n",
       " ('spread', 3322),\n",
       " ('2019ncov', 3259),\n",
       " ('one', 3049),\n",
       " ('infection', 2968),\n",
       " ('u', 2800),\n",
       " ('hospital', 2752),\n",
       " ('time', 2701),\n",
       " ('government', 2665),\n",
       " ('world', 2640),\n",
       " ('novel', 2610),\n",
       " ('state', 2519),\n",
       " ('death', 2425),\n",
       " ('first', 2423),\n",
       " ('public', 2404),\n",
       " ('day', 2366),\n",
       " ('confirmed', 2355),\n",
       " ('infected', 2348),\n",
       " ('city', 2346),\n",
       " ('medical', 2324),\n",
       " ('number', 2093),\n",
       " ('may', 2055),\n",
       " ('two', 2024),\n",
       " ('would', 1952),\n",
       " ('reported', 1937),\n",
       " ('vaccine', 1908),\n",
       " ('respiratory', 1895),\n",
       " ('symptom', 1889),\n",
       " ('year', 1861),\n",
       " ('say', 1816),\n",
       " ('2020', 1775),\n",
       " ('travel', 1767)]"
      ]
     },
     "execution_count": 84,
     "metadata": {},
     "output_type": "execute_result"
    }
   ],
   "source": [
    "from collections import Counter\n",
    "cnt = Counter()\n",
    "for text in data[\"headlines\"].values:\n",
    "    for word in text.split():\n",
    "        cnt[word] += 1\n",
    "        \n",
    "cnt.most_common(50)"
   ]
  },
  {
   "cell_type": "code",
   "execution_count": 88,
   "metadata": {},
   "outputs": [
    {
     "data": {
      "text/plain": [
       "Counter({0: 10785, 1: 2535})"
      ]
     },
     "execution_count": 88,
     "metadata": {},
     "output_type": "execute_result"
    }
   ],
   "source": [
    "Counter(data['outcome']) #0 for true news, 1 for fake news"
   ]
  },
  {
   "cell_type": "code",
   "execution_count": 92,
   "metadata": {},
   "outputs": [],
   "source": [
    "from wordcloud import WordCloud, STOPWORDS\n",
    "import matplotlib.pyplot as plt\n",
    "\n",
    "stopwords_ = set(STOPWORDS)\n",
    "def show_wordcloud(data, title = None):\n",
    "    wordcloud = WordCloud(\n",
    "        collocations=False,\n",
    "        background_color='white',\n",
    "        stopwords=stopwords_,\n",
    "        max_words=200,\n",
    "        max_font_size=40, \n",
    "        scale=3,\n",
    "        random_state=1\n",
    "    ).generate(str(data))\n",
    "\n",
    "    fig = plt.figure(1, figsize=(12, 12))\n",
    "    plt.axis('off')\n",
    "    if title: \n",
    "        fig.suptitle(title, fontsize=20)\n",
    "        fig.subplots_adjust(top=2.3)\n",
    "\n",
    "    plt.imshow(wordcloud)\n",
    "    plt.show()"
   ]
  },
  {
   "cell_type": "code",
   "execution_count": 93,
   "metadata": {},
   "outputs": [
    {
     "data": {
      "image/png": "[encoded data removed]",
      "text/plain": [
       "<Figure size 864x864 with 1 Axes>"
      ]
     },
     "metadata": {
      "needs_background": "light"
     },
     "output_type": "display_data"
    }
   ],
   "source": [
    "show_wordcloud(data['headlines'], \"WordCloud for tweets\") #simple visualization for the most common words"
   ]
  },
  {
   "cell_type": "code",
   "execution_count": 96,
   "metadata": {},
   "outputs": [
    {
     "data": {
      "text/plain": [
       "(['pcr',\n",
       "  'test',\n",
       "  'return',\n",
       "  'many',\n",
       "  'false',\n",
       "  'positive',\n",
       "  'influenza',\n",
       "  'vaccine',\n",
       "  'related',\n",
       "  'covid19'],\n",
       " 70380)"
      ]
     },
     "execution_count": 96,
     "metadata": {},
     "output_type": "execute_result"
    }
   ],
   "source": [
    "total_strings= ' '.join(data['headlines'].values).split()\n",
    "total_strings[10:20], len(set(total_strings))"
   ]
  },
  {
   "cell_type": "code",
   "execution_count": 112,
   "metadata": {},
   "outputs": [],
   "source": [
    "from nltk import bigrams\n",
    "\n",
    "bigrams = list(map(\" \".join, list(bigrams(total_strings))))"
   ]
  },
  {
   "cell_type": "code",
   "execution_count": 125,
   "metadata": {},
   "outputs": [
    {
     "data": {
      "text/plain": [
       "['ownership education', 'education child']"
      ]
     },
     "execution_count": 125,
     "metadata": {},
     "output_type": "execute_result"
    }
   ],
   "source": [
    "total = total_strings + bigrams\n",
    "total[-2:]"
   ]
  },
  {
   "cell_type": "code",
   "execution_count": 126,
   "metadata": {},
   "outputs": [
    {
     "data": {
      "text/plain": [
       "[('corona virus', 31283),\n",
       " ('virus', 26488),\n",
       " ('coronavirus', 22534),\n",
       " ('ha', 20024),\n",
       " ('china', 18548),\n",
       " ('health', 14656),\n",
       " ('wa', 13900),\n",
       " ('novel coronavirus', 13650),\n",
       " ('people', 13338),\n",
       " ('case', 12750),\n",
       " ('corona', 12370),\n",
       " ('said', 10808),\n",
       " ('new', 9504),\n",
       " ('covid19', 9300),\n",
       " ('wuhan', 8492),\n",
       " ('outbreak', 8198),\n",
       " ('chinese', 8192),\n",
       " ('also', 8134),\n",
       " ('public health', 7371),\n",
       " ('disease', 6838),\n",
       " ('new coronavirus', 6811),\n",
       " ('country', 6718),\n",
       " ('patient', 6712),\n",
       " ('spread', 6644),\n",
       " ('confirmed case', 6573),\n",
       " ('2019ncov', 6518),\n",
       " ('one', 6098),\n",
       " ('infection', 5936),\n",
       " ('world health', 5789),\n",
       " ('u', 5600),\n",
       " ('hospital', 5504),\n",
       " ('time', 5402),\n",
       " ('united state', 5397),\n",
       " ('government', 5330),\n",
       " ('world', 5280),\n",
       " ('novel', 5220),\n",
       " ('state', 5038),\n",
       " ('hong kong', 4851),\n",
       " ('death', 4850),\n",
       " ('first', 4846),\n",
       " ('public', 4808),\n",
       " ('health organization', 4802),\n",
       " ('coronavirus outbreak', 4795),\n",
       " ('day', 4732),\n",
       " ('confirmed', 4710),\n",
       " ('infected', 4696),\n",
       " ('city', 4692),\n",
       " ('coronavirus 2019ncov', 4676),\n",
       " ('medical', 4648),\n",
       " ('virus ha', 4242)]"
      ]
     },
     "execution_count": 126,
     "metadata": {},
     "output_type": "execute_result"
    }
   ],
   "source": [
    "for word in total:\n",
    "    cnt[word] += 1\n",
    "        \n",
    "cnt.most_common(50) #most common words including bigrams"
   ]
  },
  {
   "cell_type": "code",
   "execution_count": null,
   "metadata": {},
   "outputs": [],
   "source": []
  }
 ],
 "metadata": {
  "kernelspec": {
   "display_name": "Python 3",
   "language": "python",
   "name": "python3"
  },
  "language_info": {
   "codemirror_mode": {
    "name": "ipython",
    "version": 3
   },
   "file_extension": ".py",
   "mimetype": "text/x-python",
   "name": "python",
   "nbconvert_exporter": "python",
   "pygments_lexer": "ipython3",
   "version": "3.7.3"
  }
 },
 "nbformat": 4,
 "nbformat_minor": 4
}
