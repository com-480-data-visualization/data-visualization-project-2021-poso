{
 "cells": [
  {
   "cell_type": "code",
   "execution_count": 1,
   "metadata": {},
   "outputs": [],
   "source": [
    "import numpy as np\n",
    "import pandas as pd\n",
    "from numpy import genfromtxt"
   ]
  },
  {
   "cell_type": "code",
   "execution_count": 2,
   "metadata": {},
   "outputs": [],
   "source": [
    "words_info = pd.read_csv('word_df.csv').drop(columns='Unnamed: 0')\n",
    "matrix = genfromtxt('appearance_matrix.csv', delimiter=',')\n",
    "matrix = np.array(matrix, dtype=int)\n",
    "size = 500"
   ]
  },
  {
   "cell_type": "code",
   "execution_count": 3,
   "metadata": {},
   "outputs": [
    {
     "data": {
      "text/html": [
       "<div>\n",
       "<style scoped>\n",
       "    .dataframe tbody tr th:only-of-type {\n",
       "        vertical-align: middle;\n",
       "    }\n",
       "\n",
       "    .dataframe tbody tr th {\n",
       "        vertical-align: top;\n",
       "    }\n",
       "\n",
       "    .dataframe thead th {\n",
       "        text-align: right;\n",
       "    }\n",
       "</style>\n",
       "<table border=\"1\" class=\"dataframe\">\n",
       "  <thead>\n",
       "    <tr style=\"text-align: right;\">\n",
       "      <th></th>\n",
       "      <th>word</th>\n",
       "      <th>word_freq</th>\n",
       "    </tr>\n",
       "  </thead>\n",
       "  <tbody>\n",
       "    <tr>\n",
       "      <th>0</th>\n",
       "      <td>covid</td>\n",
       "      <td>108323</td>\n",
       "    </tr>\n",
       "    <tr>\n",
       "      <th>1</th>\n",
       "      <td>case</td>\n",
       "      <td>20194</td>\n",
       "    </tr>\n",
       "    <tr>\n",
       "      <th>2</th>\n",
       "      <td>coronavirus</td>\n",
       "      <td>14184</td>\n",
       "    </tr>\n",
       "    <tr>\n",
       "      <th>3</th>\n",
       "      <td>death</td>\n",
       "      <td>9849</td>\n",
       "    </tr>\n",
       "    <tr>\n",
       "      <th>4</th>\n",
       "      <td>people</td>\n",
       "      <td>9285</td>\n",
       "    </tr>\n",
       "  </tbody>\n",
       "</table>\n",
       "</div>"
      ],
      "text/plain": [
       "          word  word_freq\n",
       "0        covid     108323\n",
       "1         case      20194\n",
       "2  coronavirus      14184\n",
       "3        death       9849\n",
       "4       people       9285"
      ]
     },
     "execution_count": 3,
     "metadata": {},
     "output_type": "execute_result"
    }
   ],
   "source": [
    "words_info.head()"
   ]
  },
  {
   "cell_type": "code",
   "execution_count": 4,
   "metadata": {},
   "outputs": [],
   "source": [
    "matrix = matrix[:size, :size]"
   ]
  },
  {
   "cell_type": "code",
   "execution_count": 5,
   "metadata": {},
   "outputs": [],
   "source": [
    "def add_node(word):\n",
    "    ind = word[0]\n",
    "    name = word[1]\n",
    "    score = word[2]\n",
    "    x = 0.1\n",
    "    y = 0.1\n",
    "    string = \"{ \\n  \\\"data\\\": {\\n    \\\"id\\\": \\\"\"+ str(ind) + \"\\\", \\n    \\\"idInt\\\": \" + str(ind)\n",
    "    string += (\", \\n    \\\"name\\\": \\\"\" + name + \"\\\", \\n    \\\"score\\\": \" + str(score) + \", \\n    \\\"query\\\": true,\")\n",
    "    string += \"\\n    \\\"gene\\\": true\\n  }, \\n  \\\"group\\\": \\\"nodes\\\", \\n  \\\"removed\\\": false,\"\n",
    "    string += \"\\n  \\\"selected\\\": false, \\n  \\\"selectable\\\": true, \\n  \\\"locked\\\": false,\\n  \\\"grabbed\\\": false,\\n\" \n",
    "    string += \"  \\\"grabbable\\\": false \\n},\\n\"\n",
    "    return string"
   ]
  },
  {
   "cell_type": "code",
   "execution_count": 6,
   "metadata": {},
   "outputs": [],
   "source": [
    "def add_edge(word_i, word_j): \n",
    "    string = \"{\\n  \\\"data\\\": {\\n    \\\"source\\\": \\\"\" + str(word_i) + \"\\\",\\n    \\\"target\\\": \\\"\" + str(word_j) + \"\\\",\\n\"\n",
    "    string += \"    \\\"weight\\\": \" + str(matrix[word_i, word_j]) + \",\\n    \\\"group\\\": \\\"coexp\\\",\\n    \\\"networkId\\\": 1133,\\n\"\n",
    "    string += \"    \\\"networkGroupId\\\": 18,\\n    \\\"intn\\\": true,\\n    \\\"rIntnId\\\": 2,\\n    \\\"id\\\": \\\"e\" + str(word_i * size + word_j) + \"\\\"\\n },\\n  \\\"group\\\": \"\n",
    "    string += \"\\\"edges\\\",\\n  \\\"removed\\\": false,\\n  \\\"selected\\\": false,\\n  \\\"selectable\\\": true,\\n  \\\"locked\\\": false,\\n  \\\"grabbed\\\": false,\\n\"\n",
    "    string += \"  \\\"grabbable\\\": false},\\n\"\n",
    "    return string"
   ]
  },
  {
   "cell_type": "code",
   "execution_count": 7,
   "metadata": {},
   "outputs": [],
   "source": [
    "final_string = '['\n",
    "for i in range(size):\n",
    "    row = [i] + list(words_info.iloc[i])\n",
    "    final_string += add_node(row)\n",
    "for i in range(size):\n",
    "    i_score = words_info.iloc[i][1]\n",
    "    for j in range(i + 1, size):\n",
    "        j_score = words_info.iloc[j][1]\n",
    "        edge_score = matrix[i,j]\n",
    "        min_score = min(i_score, j_score)\n",
    "        if edge_score >= 0.2 * min_score :\n",
    "            final_string += add_edge(i, j)\n",
    "        \n",
    "final_string = final_string[:-2] + ']'"
   ]
  },
  {
   "cell_type": "code",
   "execution_count": 8,
   "metadata": {},
   "outputs": [],
   "source": [
    "file = open('website/data/topics_connexions.json', 'w')\n",
    "file.write(final_string)\n",
    "file.close()"
   ]
  },
  {
   "cell_type": "code",
   "execution_count": 9,
   "metadata": {},
   "outputs": [
    {
     "data": {
      "text/plain": [
       "0"
      ]
     },
     "execution_count": 9,
     "metadata": {},
     "output_type": "execute_result"
    }
   ],
   "source": [
    "matrix.min()"
   ]
  },
  {
   "cell_type": "code",
   "execution_count": 10,
   "metadata": {},
   "outputs": [
    {
     "data": {
      "text/plain": [
       "word         deliver\n",
       "word_freq        459\n",
       "Name: 500, dtype: object"
      ]
     },
     "execution_count": 10,
     "metadata": {},
     "output_type": "execute_result"
    }
   ],
   "source": [
    "words_info.iloc[size]"
   ]
  },
  {
   "cell_type": "code",
   "execution_count": null,
   "metadata": {},
   "outputs": [],
   "source": []
  }
 ],
 "metadata": {
  "kernelspec": {
   "display_name": "Python 3",
   "language": "python",
   "name": "python3"
  },
  "language_info": {
   "codemirror_mode": {
    "name": "ipython",
    "version": 3
   },
   "file_extension": ".py",
   "mimetype": "text/x-python",
   "name": "python",
   "nbconvert_exporter": "python",
   "pygments_lexer": "ipython3",
   "version": "3.9.5"
  }
 },
 "nbformat": 4,
 "nbformat_minor": 4
}
